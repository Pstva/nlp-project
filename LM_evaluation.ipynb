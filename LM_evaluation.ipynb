{
  "nbformat": 4,
  "nbformat_minor": 0,
  "metadata": {
    "colab": {
      "name": "LM evaluation.ipynb",
      "provenance": []
    },
    "kernelspec": {
      "name": "python3",
      "display_name": "Python 3"
    },
    "language_info": {
      "name": "python"
    },
    "accelerator": "GPU"
  },
  "cells": [
    {
      "cell_type": "markdown",
      "source": [
        "## Оценка генерации стихов предобученной моделью ruGPT"
      ],
      "metadata": {
        "id": "3Mx0N7W_hgfg"
      }
    },
    {
      "cell_type": "code",
      "source": [
        "!pip install transformers"
      ],
      "metadata": {
        "id": "6C-K2fMSWZXx"
      },
      "execution_count": null,
      "outputs": []
    },
    {
      "cell_type": "code",
      "source": [
        "import torch\n",
        "import math\n",
        "import csv\n",
        "import numpy as np\n",
        "import pandas as pd\n",
        "from tqdm import tqdm\n",
        "from transformers import GPT2Tokenizer, GPT2LMHeadModel\n",
        "from scipy.special import softmax"
      ],
      "metadata": {
        "id": "ja0BIwa9WMAi"
      },
      "execution_count": 2,
      "outputs": []
    },
    {
      "cell_type": "code",
      "source": [
        "from google.colab import drive\n",
        "drive.mount(\"/content/drive\")\n",
        "\n",
        "%cd /content/drive/MyDrive/NLP_poems"
      ],
      "metadata": {
        "colab": {
          "base_uri": "https://localhost:8080/"
        },
        "id": "X5ei9GDybUg1",
        "outputId": "b74cb004-b6f4-4918-81c2-e6cf14aeb15f"
      },
      "execution_count": 3,
      "outputs": [
        {
          "output_type": "stream",
          "name": "stdout",
          "text": [
            "Mounted at /content/drive\n",
            "/content/drive/MyDrive/NLP_poems\n"
          ]
        }
      ]
    },
    {
      "cell_type": "code",
      "source": [
        "MODEL_NAME = 'sberbank-ai/rugpt2large'\n",
        "DEVICE = 'cuda'\n",
        "\n",
        "model = GPT2LMHeadModel.from_pretrained(MODEL_NAME).to(DEVICE)\n",
        "tokenizer = GPT2Tokenizer.from_pretrained(MODEL_NAME)"
      ],
      "metadata": {
        "id": "evlCUmE8Whdv"
      },
      "execution_count": 4,
      "outputs": []
    },
    {
      "cell_type": "code",
      "source": [
        "def gpt_evaluate(text, model, tokenizer):\n",
        "    text = \" \".join(text.split())\n",
        "    tokenize_input = tokenizer.tokenize(text)\n",
        "    tokenizer.convert_tokens_to_ids(tokenize_input)\n",
        "    tensor_input = torch.tensor([tokenizer.convert_tokens_to_ids(tokenize_input)], device=DEVICE)\n",
        "    labels = torch.tensor([tokenizer.convert_tokens_to_ids(tokenize_input)], device=DEVICE)\n",
        "    labels[:,:1] = -1\n",
        "    loss = model(tensor_input, labels=tensor_input)\n",
        "    return float(loss[0]) * -1.0"
      ],
      "metadata": {
        "id": "_z5x5uBaZ6WV"
      },
      "execution_count": 21,
      "outputs": []
    },
    {
      "cell_type": "code",
      "source": [
        "model.eval()\n",
        "\n",
        "def evaluate_data(poems_path, output_path):\n",
        "    data = pd.read_csv(poems_path,  header=None,delimiter='\\t', quotechar='|', usecols=[1])\n",
        "    data['gpt_lp'] = data[1].apply(lambda x: gpt_evaluate(x, model, tokenizer))\n",
        "    data.sort_values(by=['gpt_lp'], axis=0, ascending=False, inplace=True)\n",
        "    data.rename({1:'poem'}, axis=1,  inplace=True)\n",
        "    data.to_csv(output_path, index=False)"
      ],
      "metadata": {
        "id": "YZ6qjmLuWlv1"
      },
      "execution_count": null,
      "outputs": []
    },
    {
      "cell_type": "code",
      "source": [
        "poems_path = 'generated_poems/lstm_acc_poems.csv'\n",
        "output_path = 'generated_poems/with_lp/lstm_acc_poems_lp.csv'\n",
        "\n",
        "evaluate_data(poems_path, output_path)"
      ],
      "metadata": {
        "id": "SVFfae-hca7R"
      },
      "execution_count": 22,
      "outputs": []
    },
    {
      "cell_type": "code",
      "source": [
        "poems_path = 'generated_poems/markov_acc_civil.csv'\n",
        "output_path = 'generated_poems/with_lp/markov_acc_civil_lp.csv'\n",
        "\n",
        "evaluate_data(poems_path, output_path)"
      ],
      "metadata": {
        "id": "ngo6GwQpeRUN"
      },
      "execution_count": 29,
      "outputs": []
    },
    {
      "cell_type": "code",
      "source": [
        "poems_path = 'generated_poems/markov_acc_love.csv'\n",
        "output_path = 'generated_poems/with_lp/markov_acc_love_lp.csv'\n",
        "\n",
        "evaluate_data(poems_path, output_path)"
      ],
      "metadata": {
        "id": "mDpXY3ioew8Z"
      },
      "execution_count": 30,
      "outputs": []
    },
    {
      "cell_type": "code",
      "source": [
        "poems_path = 'generated_poems/markov_acc_nature.csv'\n",
        "output_path = 'generated_poems/with_lp/markov_acc_nature_lp.csv'\n",
        "\n",
        "evaluate_data(poems_path, output_path)"
      ],
      "metadata": {
        "id": "vjOt4UZfhI_z"
      },
      "execution_count": 31,
      "outputs": []
    },
    {
      "cell_type": "code",
      "source": [
        "poems_path = 'generated_poems/markov_acc_religion.csv'\n",
        "output_path = 'generated_poems/with_lp/markov_acc_religion_lp.csv'\n",
        "\n",
        "evaluate_data(poems_path, output_path)"
      ],
      "metadata": {
        "id": "G65jptHohJlS"
      },
      "execution_count": 32,
      "outputs": []
    }
  ]
}